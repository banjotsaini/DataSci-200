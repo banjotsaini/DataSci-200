{
 "cells": [
  {
   "cell_type": "markdown",
   "id": "a15fd42e",
   "metadata": {},
   "source": [
    "# Binary Search Activity\n",
    "\n",
    "You are given an array of distinct integers nums, sorted in ascending order, and an integer target.\n",
    "\n",
    "Implement a function to search for target within nums. If it exists, then return its index, otherwise, return -1.\n",
    "\n",
    "Your solution must run in O(logn) time (not O(n)).\n",
    "\n",
    "Example 1:\n",
    "```\n",
    "Input: nums = [-1,0,2,4,6,8], target = 4\n",
    "\n",
    "Output: 3\n",
    "```\n",
    "\n",
    "Example 2:\n",
    "```\n",
    "Input: nums = [-1,0,2,4,6,8], target = 3\n",
    "\n",
    "Output: -1\n",
    "```\n",
    "Constraints:\n",
    "* 1 <= nums.length <= 10000.\n",
    "* -10000 < nums[i], target < 10000"
   ]
  },
  {
   "cell_type": "code",
   "execution_count": 13,
   "id": "274c8f19",
   "metadata": {},
   "outputs": [],
   "source": [
    "\n",
    "def bst(nums: list[int], target: int):\n",
    "    \"\"\"\n",
    "    binary search\n",
    "    \"\"\"\n",
    "    l = 0\n",
    "    r = len(nums) - 1\n",
    "\n",
    "    while l <= r:\n",
    "        m = l + (r-l) // 2\n",
    "        curr = nums[m]\n",
    "        if curr == target:\n",
    "            return m\n",
    "        elif curr < target:\n",
    "            l = m + 1\n",
    "        else:\n",
    "            r = m - 1\n",
    "    return -1\n",
    "            \n",
    "\n",
    "l = [1, 2, 4, 5, 7, 24, 43, 49, 60, 82]\n",
    "\n",
    "assert(bst(l, 7) == 4)\n",
    "assert(bst(l, 1) == 0)\n",
    "assert(bst(l, 82) == len(l) - 1)\n",
    "\n"
   ]
  }
 ],
 "metadata": {
  "kernelspec": {
   "display_name": "base",
   "language": "python",
   "name": "python3"
  },
  "language_info": {
   "codemirror_mode": {
    "name": "ipython",
    "version": 3
   },
   "file_extension": ".py",
   "mimetype": "text/x-python",
   "name": "python",
   "nbconvert_exporter": "python",
   "pygments_lexer": "ipython3",
   "version": "3.11.7"
  }
 },
 "nbformat": 4,
 "nbformat_minor": 5
}
